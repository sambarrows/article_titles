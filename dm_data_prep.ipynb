{
 "cells": [
  {
   "cell_type": "code",
   "execution_count": 1,
   "metadata": {
    "collapsed": true
   },
   "outputs": [],
   "source": [
    "import pandas as pd\n",
    "import numpy as np\n",
    "from datetime import datetime\n",
    "\n",
    "%matplotlib inline"
   ]
  },
  {
   "cell_type": "code",
   "execution_count": 2,
   "metadata": {
    "collapsed": false
   },
   "outputs": [
    {
     "name": "stdout",
     "output_type": "stream",
     "text": [
      "113498\n",
      "Total \"observations\": 113198\n",
      "Observations with data: 54978\n",
      "Sponsored observations: 15\n",
      "4200000 4313196\n"
     ]
    },
    {
     "data": {
      "text/html": [
       "<div>\n",
       "<table border=\"1\" class=\"dataframe\">\n",
       "  <thead>\n",
       "    <tr style=\"text-align: right;\">\n",
       "      <th></th>\n",
       "      <th>category</th>\n",
       "      <th>author</th>\n",
       "      <th>published</th>\n",
       "      <th>shares</th>\n",
       "      <th>sponsored</th>\n",
       "      <th>comments</th>\n",
       "      <th>time</th>\n",
       "      <th>title</th>\n",
       "      <th>article_id</th>\n",
       "    </tr>\n",
       "  </thead>\n",
       "  <tbody>\n",
       "    <tr>\n",
       "      <th>0</th>\n",
       "      <td>wires</td>\n",
       "      <td>Reuters</td>\n",
       "      <td>\\n  ,\\n  09:26 EDT, 7 February 2017\\n</td>\n",
       "      <td>NaN</td>\n",
       "      <td>NaN</td>\n",
       "      <td>NaN</td>\n",
       "      <td>2017-03-14 23:31:41.584110</td>\n",
       "      <td>Russia says Trump's efforts on Ukraine better ...</td>\n",
       "      <td>4200006</td>\n",
       "    </tr>\n",
       "    <tr>\n",
       "      <th>9</th>\n",
       "      <td>wires</td>\n",
       "      <td>Reuters</td>\n",
       "      <td>\\n  ,\\n  10:20 EDT, 7 February 2017\\n</td>\n",
       "      <td>NaN</td>\n",
       "      <td>NaN</td>\n",
       "      <td>NaN</td>\n",
       "      <td>2017-03-14 23:31:41.678891</td>\n",
       "      <td>Eurogroup's Dijsselbloem sees no forgiveness o...</td>\n",
       "      <td>4200040</td>\n",
       "    </tr>\n",
       "    <tr>\n",
       "      <th>24</th>\n",
       "      <td>wires</td>\n",
       "      <td>Reuters</td>\n",
       "      <td>\\n  ,\\n  09:39 EDT, 7 February 2017\\n</td>\n",
       "      <td>NaN</td>\n",
       "      <td>NaN</td>\n",
       "      <td>NaN</td>\n",
       "      <td>2017-03-14 23:31:41.792692</td>\n",
       "      <td>Polish PM says determined to deepen cooperatio...</td>\n",
       "      <td>4200036</td>\n",
       "    </tr>\n",
       "  </tbody>\n",
       "</table>\n",
       "</div>"
      ],
      "text/plain": [
       "   category   author                              published shares sponsored  \\\n",
       "0     wires  Reuters  \\n  ,\\n  09:26 EDT, 7 February 2017\\n    NaN       NaN   \n",
       "9     wires  Reuters  \\n  ,\\n  10:20 EDT, 7 February 2017\\n    NaN       NaN   \n",
       "24    wires  Reuters  \\n  ,\\n  09:39 EDT, 7 February 2017\\n    NaN       NaN   \n",
       "\n",
       "   comments                        time  \\\n",
       "0       NaN  2017-03-14 23:31:41.584110   \n",
       "9       NaN  2017-03-14 23:31:41.678891   \n",
       "24      NaN  2017-03-14 23:31:41.792692   \n",
       "\n",
       "                                                title  article_id  \n",
       "0   Russia says Trump's efforts on Ukraine better ...     4200006  \n",
       "9   Eurogroup's Dijsselbloem sees no forgiveness o...     4200040  \n",
       "24  Polish PM says determined to deepen cooperatio...     4200036  "
      ]
     },
     "execution_count": 2,
     "metadata": {},
     "output_type": "execute_result"
    },
    {
     "data": {
      "image/png": "[encoded data removed]",
      "text/plain": [
       "<matplotlib.figure.Figure at 0x110b0e3d0>"
      ]
     },
     "metadata": {},
     "output_type": "display_data"
    }
   ],
   "source": [
    "df = pd.read_csv('dm_4200000_4313498.csv')\n",
    "#df = pd.read_csv('dm_2200000_4200000.csv', low_memory=False)\n",
    "\n",
    "print 4313498 - 4200000 ## took 43min\n",
    "print 'Total \"observations\":', len(df)\n",
    "df = df.loc[df['flag'] == 'found']\n",
    "df = df.drop('flag', 1)\n",
    "print 'Observations with data:', len(df)\n",
    "print 'Sponsored observations:', len(df[df['sponsored'].notnull()])\n",
    "\n",
    "print df['article_id'].min(), df['article_id'].max()\n",
    "id_hist = df['article_id'].hist()\n",
    "id_hist\n",
    "\n",
    "df.head(3)"
   ]
  },
  {
   "cell_type": "markdown",
   "metadata": {},
   "source": [
    "### Convert time columns to datetime format"
   ]
  },
  {
   "cell_type": "code",
   "execution_count": 3,
   "metadata": {
    "collapsed": false
   },
   "outputs": [
    {
     "data": {
      "text/html": [
       "<div>\n",
       "<table border=\"1\" class=\"dataframe\">\n",
       "  <thead>\n",
       "    <tr style=\"text-align: right;\">\n",
       "      <th></th>\n",
       "      <th>category</th>\n",
       "      <th>author</th>\n",
       "      <th>shares</th>\n",
       "      <th>sponsored</th>\n",
       "      <th>comments</th>\n",
       "      <th>time</th>\n",
       "      <th>title</th>\n",
       "      <th>article_id</th>\n",
       "      <th>pub_time</th>\n",
       "    </tr>\n",
       "  </thead>\n",
       "  <tbody>\n",
       "    <tr>\n",
       "      <th>0</th>\n",
       "      <td>wires</td>\n",
       "      <td>Reuters</td>\n",
       "      <td>NaN</td>\n",
       "      <td>NaN</td>\n",
       "      <td>NaN</td>\n",
       "      <td>2017-03-14 23:31:41.584110</td>\n",
       "      <td>Russia says Trump's efforts on Ukraine better ...</td>\n",
       "      <td>4200006</td>\n",
       "      <td>2017-02-07 09:26:00</td>\n",
       "    </tr>\n",
       "    <tr>\n",
       "      <th>1</th>\n",
       "      <td>wires</td>\n",
       "      <td>Reuters</td>\n",
       "      <td>NaN</td>\n",
       "      <td>NaN</td>\n",
       "      <td>NaN</td>\n",
       "      <td>2017-03-14 23:31:41.678891</td>\n",
       "      <td>Eurogroup's Dijsselbloem sees no forgiveness o...</td>\n",
       "      <td>4200040</td>\n",
       "      <td>2017-02-07 10:20:00</td>\n",
       "    </tr>\n",
       "    <tr>\n",
       "      <th>2</th>\n",
       "      <td>wires</td>\n",
       "      <td>Reuters</td>\n",
       "      <td>NaN</td>\n",
       "      <td>NaN</td>\n",
       "      <td>NaN</td>\n",
       "      <td>2017-03-14 23:31:41.792692</td>\n",
       "      <td>Polish PM says determined to deepen cooperatio...</td>\n",
       "      <td>4200036</td>\n",
       "      <td>2017-02-07 09:39:00</td>\n",
       "    </tr>\n",
       "    <tr>\n",
       "      <th>3</th>\n",
       "      <td>wires</td>\n",
       "      <td>Associated Press</td>\n",
       "      <td>NaN</td>\n",
       "      <td>NaN</td>\n",
       "      <td>NaN</td>\n",
       "      <td>2017-03-14 23:31:41.852959</td>\n",
       "      <td>Jovenel Moise sworn in as Haiti's new president</td>\n",
       "      <td>4200054</td>\n",
       "      <td>2017-02-07 18:04:00</td>\n",
       "    </tr>\n",
       "    <tr>\n",
       "      <th>4</th>\n",
       "      <td>wires</td>\n",
       "      <td>Afp</td>\n",
       "      <td>NaN</td>\n",
       "      <td>NaN</td>\n",
       "      <td>NaN</td>\n",
       "      <td>2017-03-14 23:31:41.953421</td>\n",
       "      <td>US 2016 trade deficit highest in four years</td>\n",
       "      <td>4200030</td>\n",
       "      <td>2017-02-07 10:27:00</td>\n",
       "    </tr>\n",
       "  </tbody>\n",
       "</table>\n",
       "</div>"
      ],
      "text/plain": [
       "  category            author shares sponsored comments  \\\n",
       "0    wires           Reuters    NaN       NaN      NaN   \n",
       "1    wires           Reuters    NaN       NaN      NaN   \n",
       "2    wires           Reuters    NaN       NaN      NaN   \n",
       "3    wires  Associated Press    NaN       NaN      NaN   \n",
       "4    wires               Afp    NaN       NaN      NaN   \n",
       "\n",
       "                        time  \\\n",
       "0 2017-03-14 23:31:41.584110   \n",
       "1 2017-03-14 23:31:41.678891   \n",
       "2 2017-03-14 23:31:41.792692   \n",
       "3 2017-03-14 23:31:41.852959   \n",
       "4 2017-03-14 23:31:41.953421   \n",
       "\n",
       "                                               title  article_id  \\\n",
       "0  Russia says Trump's efforts on Ukraine better ...     4200006   \n",
       "1  Eurogroup's Dijsselbloem sees no forgiveness o...     4200040   \n",
       "2  Polish PM says determined to deepen cooperatio...     4200036   \n",
       "3    Jovenel Moise sworn in as Haiti's new president     4200054   \n",
       "4        US 2016 trade deficit highest in four years     4200030   \n",
       "\n",
       "             pub_time  \n",
       "0 2017-02-07 09:26:00  \n",
       "1 2017-02-07 10:20:00  \n",
       "2 2017-02-07 09:39:00  \n",
       "3 2017-02-07 18:04:00  \n",
       "4 2017-02-07 10:27:00  "
      ]
     },
     "execution_count": 3,
     "metadata": {},
     "output_type": "execute_result"
    }
   ],
   "source": [
    "# Convert 'time' and 'pd_time' to datetime format\n",
    "df['time'] = pd.to_datetime(df['time'])\n",
    "\n",
    "# Convert 'published to datetime format\n",
    "def month_converter(month):\n",
    "    months = ['None', 'January', 'February', 'March', 'April', 'May', 'June', 'July', 'August', \n",
    "              'September', 'Octover', 'November', 'December']\n",
    "    return months.index(month)\n",
    "\n",
    "df['published'] = df['published'].str.replace('\\n','').str.replace(',','').str.lstrip(' ')\n",
    "df_pub_1 = df[df['published'].notnull()]\n",
    "df_pub_2  = pd.DataFrame(df_pub_1['published'].str.split(' ').tolist(),\n",
    "                       columns=['time','EDT','day','month','year','None']).ix[:,:5]\n",
    "df_pub = pd.concat([df_pub_2.reset_index(drop=True), df_pub_1[['article_id']].reset_index(drop=True)], 1)\n",
    "df_pub['hour'] = pd.DataFrame(df_pub['time'].str.split(':').tolist()).ix[:,0]\n",
    "df_pub['minute'] = pd.DataFrame(df_pub['time'].str.split(':').tolist()).ix[:,1]\n",
    "df_pub['month'] = df_pub['month'].apply(month_converter)\n",
    "df_pub['pub_time'] = pd.to_datetime(df_pub[['year','month','day','hour','minute']])\n",
    "df_pub = df_pub[['article_id','pub_time']]\n",
    "\n",
    "df = df.merge(df_pub, 'left', 'article_id')\n",
    "del df_pub, df_pub_1, df_pub_2\n",
    "df.drop('published', axis=1, inplace=True)   # uncomment to check it's working\n",
    "df.head(5)"
   ]
  },
  {
   "cell_type": "markdown",
   "metadata": {},
   "source": [
    "### Create date/time features\n",
    "\n",
    "For the date, a [post on CrossValidated](http://stats.stackexchange.com/questions/65900/does-it-make-sense-to-use-a-date-variable-in-a-regression) suggests including time from an origin within the time period of study or very close to it. "
   ]
  },
  {
   "cell_type": "code",
   "execution_count": 4,
   "metadata": {
    "collapsed": false
   },
   "outputs": [],
   "source": [
    "# Date since start of data\n",
    "df['pub_days'] = (df['pub_time'] - min(df['pub_time'])).dt.days\n",
    "\n",
    "# Day of week\n",
    "df['pub_dayofweek'] = df['pub_time'].dt.weekday\n",
    "\n",
    "# Minutes since midnight\n",
    "def min_since_midnight(t):\n",
    "    res = (t.hour * 3600) + (t.minute * 60) + t.second + (t.microsecond / 1000000.0)\n",
    "    return(res)\n",
    "df['pub_sincemid'] = df.pub_time.apply(min_since_midnight)"
   ]
  },
  {
   "cell_type": "markdown",
   "metadata": {},
   "source": [
    "### Convert shared and comments variables to numeric"
   ]
  },
  {
   "cell_type": "code",
   "execution_count": 5,
   "metadata": {
    "collapsed": false
   },
   "outputs": [
    {
     "data": {
      "text/html": [
       "<div>\n",
       "<table border=\"1\" class=\"dataframe\">\n",
       "  <thead>\n",
       "    <tr style=\"text-align: right;\">\n",
       "      <th></th>\n",
       "      <th>category</th>\n",
       "      <th>author</th>\n",
       "      <th>shares</th>\n",
       "      <th>sponsored</th>\n",
       "      <th>comments</th>\n",
       "      <th>time</th>\n",
       "      <th>title</th>\n",
       "      <th>article_id</th>\n",
       "      <th>pub_time</th>\n",
       "      <th>pub_days</th>\n",
       "      <th>pub_dayofweek</th>\n",
       "      <th>pub_sincemid</th>\n",
       "    </tr>\n",
       "  </thead>\n",
       "  <tbody>\n",
       "    <tr>\n",
       "      <th>0</th>\n",
       "      <td>wires</td>\n",
       "      <td>Reuters</td>\n",
       "      <td>0</td>\n",
       "      <td>NaN</td>\n",
       "      <td>0</td>\n",
       "      <td>2017-03-14 23:31:41.584110</td>\n",
       "      <td>Russia says Trump's efforts on Ukraine better ...</td>\n",
       "      <td>4200006</td>\n",
       "      <td>2017-02-07 09:26:00</td>\n",
       "      <td>0.0</td>\n",
       "      <td>1.0</td>\n",
       "      <td>33960.0</td>\n",
       "    </tr>\n",
       "    <tr>\n",
       "      <th>1</th>\n",
       "      <td>wires</td>\n",
       "      <td>Reuters</td>\n",
       "      <td>0</td>\n",
       "      <td>NaN</td>\n",
       "      <td>0</td>\n",
       "      <td>2017-03-14 23:31:41.678891</td>\n",
       "      <td>Eurogroup's Dijsselbloem sees no forgiveness o...</td>\n",
       "      <td>4200040</td>\n",
       "      <td>2017-02-07 10:20:00</td>\n",
       "      <td>0.0</td>\n",
       "      <td>1.0</td>\n",
       "      <td>37200.0</td>\n",
       "    </tr>\n",
       "    <tr>\n",
       "      <th>2</th>\n",
       "      <td>wires</td>\n",
       "      <td>Reuters</td>\n",
       "      <td>0</td>\n",
       "      <td>NaN</td>\n",
       "      <td>0</td>\n",
       "      <td>2017-03-14 23:31:41.792692</td>\n",
       "      <td>Polish PM says determined to deepen cooperatio...</td>\n",
       "      <td>4200036</td>\n",
       "      <td>2017-02-07 09:39:00</td>\n",
       "      <td>0.0</td>\n",
       "      <td>1.0</td>\n",
       "      <td>34740.0</td>\n",
       "    </tr>\n",
       "  </tbody>\n",
       "</table>\n",
       "</div>"
      ],
      "text/plain": [
       "  category   author shares sponsored comments                       time  \\\n",
       "0    wires  Reuters      0       NaN        0 2017-03-14 23:31:41.584110   \n",
       "1    wires  Reuters      0       NaN        0 2017-03-14 23:31:41.678891   \n",
       "2    wires  Reuters      0       NaN        0 2017-03-14 23:31:41.792692   \n",
       "\n",
       "                                               title  article_id  \\\n",
       "0  Russia says Trump's efforts on Ukraine better ...     4200006   \n",
       "1  Eurogroup's Dijsselbloem sees no forgiveness o...     4200040   \n",
       "2  Polish PM says determined to deepen cooperatio...     4200036   \n",
       "\n",
       "             pub_time  pub_days  pub_dayofweek  pub_sincemid  \n",
       "0 2017-02-07 09:26:00       0.0            1.0       33960.0  \n",
       "1 2017-02-07 10:20:00       0.0            1.0       37200.0  \n",
       "2 2017-02-07 09:39:00       0.0            1.0       34740.0  "
      ]
     },
     "execution_count": 5,
     "metadata": {},
     "output_type": "execute_result"
    }
   ],
   "source": [
    "def shift_dec(number):\n",
    "    if \".\" in number:\n",
    "        number = number[:-1].replace('.','')\n",
    "    return number\n",
    "\n",
    "for x in ['shares','comments']:\n",
    "    df[x] = df[x].str.strip()\n",
    "    df[x].fillna(0, inplace=True)\n",
    "    df[x] = df[x].apply(str)\n",
    "    df[x] = df[x].str.replace('k','000')\n",
    "    df[x] = df[x].apply(shift_dec)\n",
    "df.head(3)"
   ]
  },
  {
   "cell_type": "markdown",
   "metadata": {},
   "source": [
    "### Create a dummy variable for sponsored content"
   ]
  },
  {
   "cell_type": "code",
   "execution_count": 6,
   "metadata": {
    "collapsed": true
   },
   "outputs": [],
   "source": [
    "df['sponsored_dummy'] = 0\n",
    "df.loc[df.sponsored.notnull(), 'sponsored_dummy'] = 1"
   ]
  },
  {
   "cell_type": "code",
   "execution_count": 7,
   "metadata": {
    "collapsed": false
   },
   "outputs": [],
   "source": [
    "df.to_csv('dm_dat.csv')"
   ]
  }
 ],
 "metadata": {
  "anaconda-cloud": {},
  "kernelspec": {
   "display_name": "Python [conda root]",
   "language": "python",
   "name": "conda-root-py"
  },
  "language_info": {
   "codemirror_mode": {
    "name": "ipython",
    "version": 2
   },
   "file_extension": ".py",
   "mimetype": "text/x-python",
   "name": "python",
   "nbconvert_exporter": "python",
   "pygments_lexer": "ipython2",
   "version": "2.7.12"
  }
 },
 "nbformat": 4,
 "nbformat_minor": 1
}
