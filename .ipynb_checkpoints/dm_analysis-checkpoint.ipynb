{
 "cells": [
  {
   "cell_type": "markdown",
   "metadata": {},
   "source": [
    "# Load Packages and Data"
   ]
  },
  {
   "cell_type": "code",
   "execution_count": 48,
   "metadata": {},
   "outputs": [],
   "source": [
    "import pandas as pd\n",
    "import numpy as np\n",
    "import nltk\n",
    "import string\n",
    "import re\n",
    "import sys\n",
    "import time\n",
    "import matplotlib.pyplot as plt\n",
    "\n",
    "from nltk.stem.snowball import SnowballStemmer\n",
    "\n",
    "from sklearn.feature_extraction.text import TfidfVectorizer\n",
    "from sklearn.preprocessing import normalize\n",
    "from sklearn.cross_validation import train_test_split, cross_val_score\n",
    "from sklearn.linear_model import LassoLarsCV\n",
    "from sklearn.metrics import mean_squared_error, mean_absolute_error, pairwise_distances\n",
    "from sklearn.cluster import KMeans\n",
    "\n",
    "from xgboost import XGBRegressor\n",
    "from skopt import gp_minimize\n",
    "from skopt.plots import plot_convergence\n",
    "\n",
    "%matplotlib inline"
   ]
  },
  {
   "cell_type": "code",
   "execution_count": 2,
   "metadata": {},
   "outputs": [
    {
     "name": "stdout",
     "output_type": "stream",
     "text": [
      "(54978, 14)\n",
      "(54977, 14)\n",
      "(54943, 14)\n"
     ]
    }
   ],
   "source": [
    "df = pd.read_csv('dm_dat.csv')\n",
    "print df.shape\n",
    "\n",
    "# Drop obs with null value in title or pub_time\n",
    "df = df[df['title'].notnull()]\n",
    "print df.shape\n",
    "df = df[df['pub_time'].notnull()]\n",
    "print df.shape\n",
    "\n",
    "# Reset index - much quicker to do it here than once I've made tf-idf matrix\n",
    "df = df.reset_index()"
   ]
  },
  {
   "cell_type": "markdown",
   "metadata": {},
   "source": [
    "Let's explore the distributions of shares and comments, and drop outliers."
   ]
  },
  {
   "cell_type": "code",
   "execution_count": 3,
   "metadata": {},
   "outputs": [
    {
     "name": "stdout",
     "output_type": "stream",
     "text": [
      "No shares: 57.3339642903\n",
      "No comments: 52.6764100977\n",
      ">1500 shares: 5.88792020822\n",
      ">300 comments: 5.03248821506\n",
      ">1500 shares or >300 comments: 8.89103252462\n"
     ]
    }
   ],
   "source": [
    "print 'No shares:', sum(df['shares']==0)*100/float(len(df))\n",
    "print 'No comments:', sum(df['comments']==0)*100/float(len(df))\n",
    "\n",
    "print '>1500 shares:', sum(df['shares']>1500)*100/float(len(df))\n",
    "print '>300 comments:', sum(df['comments']>300)*100/float(len(df))\n",
    "print '>1500 shares or >300 comments:',sum((df['shares']>1500) | (df['comments']>300))*100/float(len(df))\n",
    "df = df[(df['shares']<=1500) & (df['comments']<=300)]\n",
    "df = df.reset_index()"
   ]
  },
  {
   "cell_type": "code",
   "execution_count": 4,
   "metadata": {},
   "outputs": [
    {
     "data": {
      "image/png": "[encoded data removed]",
      "text/plain": [
       "<matplotlib.figure.Figure at 0x11940ee90>"
      ]
     },
     "metadata": {},
     "output_type": "display_data"
    },
    {
     "data": {
      "image/png": "[encoded data removed]",
      "text/plain": [
       "<matplotlib.figure.Figure at 0x11942a9d0>"
      ]
     },
     "metadata": {},
     "output_type": "display_data"
    }
   ],
   "source": [
    "plt.hist(df['shares'].tolist())\n",
    "plt.xlabel(\"Shares\")\n",
    "plt.ylabel(\"Frequency\")\n",
    "plt.show()\n",
    "plt.hist(df['comments'].tolist())\n",
    "plt.xlabel(\"Comments\")\n",
    "plt.ylabel(\"Frequency\")\n",
    "plt.show()"
   ]
  },
  {
   "cell_type": "markdown",
   "metadata": {},
   "source": [
    "# Preprocess Non-Text Features\n",
    "\n",
    "Create dummy variables for key categories."
   ]
  },
  {
   "cell_type": "code",
   "execution_count": 5,
   "metadata": {},
   "outputs": [
    {
     "data": {
      "image/png": "[encoded data removed]",
      "text/plain": [
       "<matplotlib.figure.Figure at 0x1192e1350>"
      ]
     },
     "metadata": {},
     "output_type": "display_data"
    }
   ],
   "source": [
    "df.category.value_counts().plot(kind='bar')\n",
    "pop_cats = ['wires', 'news', 'tvshowbiz', 'sport', 'femail']\n",
    "for c in pop_cats:\n",
    "    df['cat_' + c] = 0\n",
    "    df.loc[df.category==c, 'cat_' + c] = 1"
   ]
  },
  {
   "cell_type": "markdown",
   "metadata": {},
   "source": [
    "# Preprocess Text Data\n",
    "\n",
    "I need to convert the data from the titles into numerical features. To do this, I will create a TF-IDF matrix. In the process, I will in the following order (although note that there are multiple ways in which these operations could be combined):\n",
    "<ol>\n",
    "<li>**Remove all non-ASCII characters**: eg. \\xe2\\x80\\x98</li>\n",
    "<li>**Make all words lowercase**</li>\n",
    "<li>**Remove punctuation**</li>\n",
    "<li>***Tokenize***: divide string into a list of substrings.</li>\n",
    "<li>**Remove words not containing letters**\n",
    "<li>**Remove words containing numbers**\n",
    "<li>**Remove stopwords**: stopwords are a list of high frequency words like, the, to, and also.</li>\n",
    "<li>**Stem**: take the root of each word.</li>\n",
    "<li>**Remove short words**: that is, of 3 characters or less.</li>\n",
    "</ol>\n",
    "\n",
    "I will carry out all but the first of these steps in the process of creating a TF-IDF matrix, below. But we need to prepare the functions beforehand."
   ]
  },
  {
   "cell_type": "code",
   "execution_count": 6,
   "metadata": {
    "collapsed": true
   },
   "outputs": [],
   "source": [
    "def no_punctuation_unicode(text):\n",
    "    '''.translate only takes str, whereas TfidfVectorizer only takes unicode.\n",
    "    Therefore, to use .translate in the tokenizer in TfidfVectorizer I need to\n",
    "    write a function that converts unicode -> string, applies .translate,\n",
    "    and then converts it back'''\n",
    "    str_text = str(text)\n",
    "    no_punctuation = str_text.translate(None, string.punctuation)\n",
    "    unicode_text = no_punctuation.decode('utf-8')\n",
    "    return unicode_text\n",
    "\n",
    "def hasNumbers(inputString):\n",
    "    return any(char.isdigit() for char in inputString)\n",
    "\n",
    "def prep_blurb(text):\n",
    "    lowers = text.lower()\n",
    "    no_punct = no_punctuation_unicode(lowers)\n",
    "    tokens = nltk.word_tokenize(no_punct)\n",
    "    has_letters = [t for t in tokens if re.search('[a-zA-Z]',t)]\n",
    "    no_numbers  = [t for t in has_letters if not hasNumbers(t)]\n",
    "    drop_stops = [w for w in no_numbers if not w in stoplist] \n",
    "    stems = [stemmer.stem(t) for t in drop_stops]\n",
    "    drop_short = [s for s in stems if len(s)>2]\n",
    "    return drop_short"
   ]
  },
  {
   "cell_type": "markdown",
   "metadata": {},
   "source": [
    "I next extract a matrix of TF-IDF (term frequency-inverse document frequency) features.\n",
    "\n",
    "The tf-idf weight of a term in a document is the product of its tf (term frequency) weight and its idf (inverse document frequency) weight. This is generally given by the formula:\n",
    "\n",
    "$w_{t,d} = (1 + logtf_{t,d}) \\times log_{10}(\\frac{N}{df_t})$\n",
    "\n",
    "Where the term frequency $tf_{t,d}$ of term t in document d is defined as the number of times that t occurs in d, the document frequency $df_t$ is he number of documents that contain t, and N is the number of documents. The computation of tf-idfs in scikit-learn is in fact [slightly different from the standard textbook notation](http://scikit-learn.org/dev/modules/feature_extraction.html#the-bag-of-words-representation), but we can ignore that here.\n",
    "\n",
    "The tf-idf weight (of a term in a document) thus increases with the number of times a term occurs in a document, and also increases with the rarity of the term in the collection.\n",
    "\n",
    "I will specify some key parameters I define in ```TfidfVectorizer```:\n",
    "<ul>\n",
    "<li> max_df: ignore terms that have a document frequency strictly higher than the given threshold (eg. ignore words that appear in more than .8 of documents).\n",
    "<li> min_idf:  ignore terms that have a document frequency strictly lower than the given threshold (eg. ignore words that occure in less than .2 of the documents).\n",
    "<li> norm: I use [L2 normalization](http://stats.stackexchange.com/questions/225564/scikit-learn-normalization-mode-l1-vs-l2-max) following an [scikit-learn example](http://scikit-learn.org/stable/auto_examples/linear_model/plot_lasso_model_selection.html#sphx-glr-auto-examples-linear-model-plot-lasso-model-selection-py) that I draw on later in my Lasso analysis. (I originally tried standardizing the dense datframe I created from the sparse matrix such that every predictor would have mean=0 and sd=1, following a different [Lasso example on Coursera](https://www.coursera.org/learn/machine-learning-data-analysis/home/welcome), but this was taking forever to run.)\n",
    "</ul>\n",
    "\n",
    "The following cell takes a while to run."
   ]
  },
  {
   "cell_type": "code",
   "execution_count": 7,
   "metadata": {},
   "outputs": [
    {
     "name": "stdout",
     "output_type": "stream",
     "text": [
      "CPU times: user 1min 5s, sys: 939 ms, total: 1min 6s\n",
      "Wall time: 1min 39s\n",
      "Length initial list: 50058\n",
      "tf_idf.shape: (50058, 104)\n",
      "type(tf_idf): <class 'scipy.sparse.csr.csr_matrix'>\n",
      "List of words: [u'ahead', u'arrest', u'attack', u'babi', u'back', u'ban', u'bank', u'boss', u'call', u'car', u'celebr', u'championship', u'charg', u'china', u'citi', u'claim', u'could', u'court', u'cup', u'cut', u'daughter', u'day', u'dead', u'deal', u'death', u'die', u'dress', u'end', u'england', u'face', u'famili', u'fan', u'fashion', u'fight', u'fire', u'first', u'forc', u'former', u'get', u'girl', u'give', u'head', u'help', u'high', u'hit', u'home', u'hous', u'husband', u'kill', u'latest']\n"
     ]
    }
   ],
   "source": [
    "# Get list of titles\n",
    "tlist = df['title'].tolist()\n",
    "\n",
    "##Remove all non-ASCII characters from titles\n",
    "new_list = []\n",
    "for t in tlist:\n",
    "    new_list.append(t.decode('utf8').encode('ascii', errors='ignore'))\n",
    "tlist = new_list\n",
    "    \n",
    "# Convert items in alist, as TfidfVectorizer only takes unicode\n",
    "tlist = [t.decode('utf-8') for t in tlist]\n",
    "\n",
    "# Stopwords must also be in unicode to work with TfidfVectorizer\n",
    "stoplist = [word.decode('utf-8') for word in nltk.corpus.stopwords.words('english')] \n",
    "\n",
    "# Create stemmer\n",
    "stemmer = SnowballStemmer(\"english\")\n",
    "\n",
    "# Don't use stop_words argument to TfidfVectorizer as delt with in prep_blurb\n",
    "tfidf_vectorizer = TfidfVectorizer(tokenizer=prep_blurb, min_df=0.01, norm='l2')\n",
    "%time tf_idf = tfidf_vectorizer.fit_transform(tlist)\n",
    "\n",
    "print 'Length initial list:', len(tlist)\n",
    "print 'tf_idf.shape:', tf_idf.shape\n",
    "print 'type(tf_idf):', type(tf_idf)\n",
    "\n",
    "list_of_words = tfidf_vectorizer.get_feature_names()\n",
    "print 'List of words:', list_of_words[:50]"
   ]
  },
  {
   "cell_type": "markdown",
   "metadata": {},
   "source": [
    "Trying different values of min_df df and max_df it becomes clear that the vast majority of words appear in less than 1 percent of documents, while very few words appear in a high proportion of documents. I choose to ignore all words that appear in less than 1 percent of documents. \n",
    "\n",
    "Extracting tf-idf features, above, gives us a weight matrix between terms and documents. Each document is represented by a row of the matrix, which is a real valued vector, and each term by a column. This will be a sparse matrix, that is, a matrix in which most of the elements are zero.\n",
    "\n",
    "scikit-learn's TfidfVectorizer returns a matrix in scipy.sparse.csr format. Printing this matrix shows the nonzero values of the matrix in the (row, col) format. "
   ]
  },
  {
   "cell_type": "code",
   "execution_count": 8,
   "metadata": {},
   "outputs": [
    {
     "name": "stdout",
     "output_type": "stream",
     "text": [
      "tf_idf[:2,]:   (0, 74)\t0.678596012457\n",
      "  (0, 91)\t0.73451170983\n",
      "  (1, 75)\t1.0\n"
     ]
    }
   ],
   "source": [
    "print 'tf_idf[:2,]:', tf_idf[:2,]"
   ]
  },
  {
   "cell_type": "markdown",
   "metadata": {},
   "source": [
    "In order to include the features from my TF-IDF matrix in my regression model, I need to convert my scipy sparse matrix to a regular dataframe. "
   ]
  },
  {
   "cell_type": "code",
   "execution_count": 9,
   "metadata": {},
   "outputs": [
    {
     "name": "stdout",
     "output_type": "stream",
     "text": [
      "(50058, 104)\n",
      "(50058, 104)\n"
     ]
    }
   ],
   "source": [
    "print tf_idf.shape\n",
    "df_tfidf = pd.DataFrame(tf_idf.todense())\n",
    "print tf_idf.shape\n",
    "df_tfidf.columns = list_of_words"
   ]
  },
  {
   "cell_type": "markdown",
   "metadata": {},
   "source": [
    "I next need to attach my tf-idf matrix dataframe to the other predictor variables. In Lasso regression, the penalty term is not fair if the predictor variables are not on the same scale, as this would mean that not all of the predictors get the same penalty. I normalized the variables in my tf-idf matrix already, and I now need to normalize the non-text variables (I originally tried standardizing, but this was extremely slow - see above discussion of paramaters in TfidfVectorizer)."
   ]
  },
  {
   "cell_type": "code",
   "execution_count": 10,
   "metadata": {},
   "outputs": [
    {
     "data": {
      "text/html": [
       "<div>\n",
       "<style>\n",
       "    .dataframe thead tr:only-child th {\n",
       "        text-align: right;\n",
       "    }\n",
       "\n",
       "    .dataframe thead th {\n",
       "        text-align: left;\n",
       "    }\n",
       "\n",
       "    .dataframe tbody tr th {\n",
       "        vertical-align: top;\n",
       "    }\n",
       "</style>\n",
       "<table border=\"1\" class=\"dataframe\">\n",
       "  <thead>\n",
       "    <tr style=\"text-align: right;\">\n",
       "      <th></th>\n",
       "      <th>pub_days</th>\n",
       "      <th>pub_dayofweek</th>\n",
       "      <th>pub_sincemid</th>\n",
       "      <th>sponsored_dummy</th>\n",
       "      <th>cat_wires</th>\n",
       "      <th>cat_news</th>\n",
       "      <th>cat_tvshowbiz</th>\n",
       "      <th>cat_sport</th>\n",
       "      <th>cat_femail</th>\n",
       "    </tr>\n",
       "  </thead>\n",
       "  <tbody>\n",
       "    <tr>\n",
       "      <th>0</th>\n",
       "      <td>0.0</td>\n",
       "      <td>0.001371</td>\n",
       "      <td>0.003118</td>\n",
       "      <td>0.0</td>\n",
       "      <td>0.006175</td>\n",
       "      <td>0.0</td>\n",
       "      <td>0.0</td>\n",
       "      <td>0.0</td>\n",
       "      <td>0.0</td>\n",
       "    </tr>\n",
       "    <tr>\n",
       "      <th>1</th>\n",
       "      <td>0.0</td>\n",
       "      <td>0.001371</td>\n",
       "      <td>0.003416</td>\n",
       "      <td>0.0</td>\n",
       "      <td>0.006175</td>\n",
       "      <td>0.0</td>\n",
       "      <td>0.0</td>\n",
       "      <td>0.0</td>\n",
       "      <td>0.0</td>\n",
       "    </tr>\n",
       "    <tr>\n",
       "      <th>2</th>\n",
       "      <td>0.0</td>\n",
       "      <td>0.001371</td>\n",
       "      <td>0.003190</td>\n",
       "      <td>0.0</td>\n",
       "      <td>0.006175</td>\n",
       "      <td>0.0</td>\n",
       "      <td>0.0</td>\n",
       "      <td>0.0</td>\n",
       "      <td>0.0</td>\n",
       "    </tr>\n",
       "  </tbody>\n",
       "</table>\n",
       "</div>"
      ],
      "text/plain": [
       "   pub_days  pub_dayofweek  pub_sincemid  sponsored_dummy  cat_wires  \\\n",
       "0       0.0       0.001371      0.003118              0.0   0.006175   \n",
       "1       0.0       0.001371      0.003416              0.0   0.006175   \n",
       "2       0.0       0.001371      0.003190              0.0   0.006175   \n",
       "\n",
       "   cat_news  cat_tvshowbiz  cat_sport  cat_femail  \n",
       "0       0.0            0.0        0.0         0.0  \n",
       "1       0.0            0.0        0.0         0.0  \n",
       "2       0.0            0.0        0.0         0.0  "
      ]
     },
     "execution_count": 10,
     "metadata": {},
     "output_type": "execute_result"
    }
   ],
   "source": [
    "df_notext = df[['pub_days', 'pub_dayofweek', 'pub_sincemid', 'sponsored_dummy', \n",
    "                 'cat_wires', 'cat_news', 'cat_tvshowbiz', 'cat_sport', 'cat_femail']]\n",
    "df_notext_1 = pd.DataFrame(normalize(df_notext, norm='l2', copy=False, axis=0))  #axis=0 normalizes each column\n",
    "df_notext_1.columns = df_notext.columns.values\n",
    "df_notext = df_notext_1\n",
    "del df_notext_1\n",
    "df_notext.head(3)"
   ]
  },
  {
   "cell_type": "markdown",
   "metadata": {},
   "source": [
    "In joining my tf-idf dataframe with the other variables, concatenating and merging is extremely slow. The quickest approach seems to be to create an empty column for each variable I want to add, and then fill it with the appropriate values."
   ]
  },
  {
   "cell_type": "code",
   "execution_count": 11,
   "metadata": {
    "collapsed": true
   },
   "outputs": [],
   "source": [
    "for c in df_notext.columns.values.tolist():\n",
    "    df_tfidf[c] = np.nan\n",
    "    df_tfidf[c] = df_notext[c]"
   ]
  },
  {
   "cell_type": "markdown",
   "metadata": {},
   "source": [
    "Finally, I need to make sure that I have joined each tf-idf row with the correct values of the other variables (ie. that I have joined all text features to the appropriate observation).\n",
    "\n",
    "If I try selecting multiple columns from a row of df_tfidf, with a large dataframe it ends up sucking up loads of memory and can grind to a hault (this occured when I didn't restrict my tf-idf matrix to words that appeared at least one percent of the time). I believe that problem is that [pandas returns copies for most operations](http://stackoverflow.com/questions/25196595/memory-optimization-when-selecting-from-a-pandas-dataframe). Therefore, I'm better of selecting a row and then examing that. "
   ]
  },
  {
   "cell_type": "code",
   "execution_count": 12,
   "metadata": {},
   "outputs": [
    {
     "name": "stdout",
     "output_type": "stream",
     "text": [
      "Russia says Trump's efforts on Ukraine better than Obama's - TASS\n"
     ]
    },
    {
     "name": "stderr",
     "output_type": "stream",
     "text": [
      "/Users/sambarrows/anaconda2/lib/python2.7/site-packages/ipykernel_launcher.py:1: DeprecationWarning: \n",
      ".ix is deprecated. Please use\n",
      ".loc for label based indexing or\n",
      ".iloc for positional indexing\n",
      "\n",
      "See the documentation here:\n",
      "http://pandas.pydata.org/pandas-docs/stable/indexing.html#ix-indexer-is-deprecated\n",
      "  \"\"\"Entry point for launching an IPython kernel.\n"
     ]
    },
    {
     "data": {
      "text/plain": [
       "say              0.678596\n",
       "trump            0.734512\n",
       "pub_dayofweek    0.001371\n",
       "pub_sincemid     0.003118\n",
       "cat_wires        0.006175\n",
       "Name: 0, dtype: float64"
      ]
     },
     "execution_count": 12,
     "metadata": {},
     "output_type": "execute_result"
    }
   ],
   "source": [
    "print df.ix[0]['title']\n",
    "test_row = df_tfidf.iloc[0]\n",
    "test_row[test_row>0]"
   ]
  },
  {
   "cell_type": "markdown",
   "metadata": {
    "collapsed": true
   },
   "source": [
    "## Lasso Regression\n",
    "\n",
    "I employ Lasso Regression, as I have a large number of predictors. Lasso is a shrinkage method for linear regression models that selects the predictors to include. The Lasso imposes a constraint on the sum of the absolute values of the model parameters, where the sum has a specified constant as an upper bound. This contraint causes regression coefficients for some coefficients to shrink towards zero. This is the shrinkage process, which allows for better interpetation of the model and identifies the variables most strongly asssociated with the outcome of the model.\n",
    "\n",
    "\\begin{align*}\n",
    "\\hat{\\beta}^{lasso} &= argmin_\\beta\\sum_{i=1}^N\\big(y_i - \\beta_0 - \\sum_{j=1}^px_{ij}\\beta_j\\big)^2 \\\\\n",
    "&s.t. \\sum_{j=1}^p|\\beta_j| \\leq t\n",
    "\\end{align*}\n",
    "\n",
    "Alternatively, we the model can be written as:\n",
    "\n",
    "\\begin{equation*}\n",
    "\\hat{\\beta}^{lasso} = \\Big\\{argmin_\\beta\\frac{1}{2}\\sum_{i=1}^N\\big(y_i - \\beta_0 - \\sum_{j=1}^px_{ij}\\beta_j\\big)^2 + \\lambda\\sum_{j=1}^p|\\beta_j|\\Big\\}\n",
    "\\end{equation*}\n",
    "\n",
    "Below, we will use cross-validation to choose the penalty parameter, $\\lambda$. I developed the code below from a [scikit-learn example](http://scikit-learn.org/stable/auto_examples/linear_model/plot_lasso_model_selection.html#sphx-glr-auto-examples-linear-model-plot-lasso-model-selection-py) and a [Coursera example](https://www.coursera.org/learn/machine-learning-data-analysis/lecture/0PTeX/data-management-for-lasso-regression-in-python).\n",
    "\n",
    "Decide whether to look at shares or comments as outcome. Here I will report the results for shares, but the results for comments are similar."
   ]
  },
  {
   "cell_type": "code",
   "execution_count": 13,
   "metadata": {
    "collapsed": true
   },
   "outputs": [],
   "source": [
    "y = 'shares'\n",
    "# y = 'comments'"
   ]
  },
  {
   "cell_type": "markdown",
   "metadata": {},
   "source": [
    "Split the data into a training and test set. (With a larger dataframe, ```train_test_split``` makes the memory usage blow up. StackerOverflow has [instructions for getting around this](http://stackoverflow.com/questions/31467487/memory-efficient-way-to-split-large-numpy-array-into-train-and-test).)"
   ]
  },
  {
   "cell_type": "code",
   "execution_count": 14,
   "metadata": {
    "collapsed": true
   },
   "outputs": [],
   "source": [
    "pred_train, pred_test, tar_train, tar_test = train_test_split(df_tfidf.as_matrix(), df[y].as_matrix(),\n",
    "                                                              test_size=.2, random_state=123)"
   ]
  },
  {
   "cell_type": "markdown",
   "metadata": {},
   "source": [
    "Specify the lasso regression model. I will use the least angle regression (LAR) algorithm to fit the model, and will use cross-validation to select the value of the penalty parameter. Note the scikit-learn calls this penalty parameter $\\alpha$, but the more conventional term is $\\lambda$."
   ]
  },
  {
   "cell_type": "code",
   "execution_count": 15,
   "metadata": {},
   "outputs": [
    {
     "name": "stdout",
     "output_type": "stream",
     "text": [
      "train time (seconds): 233.701644897\n"
     ]
    }
   ],
   "source": [
    "t1 = time.time()\n",
    "model=LassoLarsCV(cv=10, precompute=False).fit(pred_train, tar_train)\n",
    "t_lasso_lars_cv = time.time() - t1\n",
    "print 'train time (seconds):', t_lasso_lars_cv"
   ]
  },
  {
   "cell_type": "markdown",
   "metadata": {},
   "source": [
    "Plot mean square error for each fold."
   ]
  },
  {
   "cell_type": "code",
   "execution_count": 16,
   "metadata": {},
   "outputs": [
    {
     "name": "stderr",
     "output_type": "stream",
     "text": [
      "/Users/sambarrows/anaconda2/lib/python2.7/site-packages/ipykernel_launcher.py:1: RuntimeWarning: divide by zero encountered in log10\n",
      "  \"\"\"Entry point for launching an IPython kernel.\n",
      "/Users/sambarrows/anaconda2/lib/python2.7/site-packages/sklearn/utils/deprecation.py:75: DeprecationWarning: Function cv_mse_path_ is deprecated; Attribute ``cv_mse_path_`` is deprecated in 0.18 and will be removed in 0.20. Use ``mse_path_`` instead\n",
      "  warnings.warn(msg, category=DeprecationWarning)\n",
      "/Users/sambarrows/anaconda2/lib/python2.7/site-packages/sklearn/utils/deprecation.py:75: DeprecationWarning: Function cv_mse_path_ is deprecated; Attribute ``cv_mse_path_`` is deprecated in 0.18 and will be removed in 0.20. Use ``mse_path_`` instead\n",
      "  warnings.warn(msg, category=DeprecationWarning)\n"
     ]
    },
    {
     "data": {
      "image/png": "[encoded data removed]",
      "text/plain": [
       "<matplotlib.figure.Figure at 0x1168308d0>"
      ]
     },
     "metadata": {},
     "output_type": "display_data"
    }
   ],
   "source": [
    "m_log_alphas = -np.log10(model.cv_alphas_)\n",
    "\n",
    "plt.figure()\n",
    "plt.plot(m_log_alphas, model.cv_mse_path_, ':')\n",
    "plt.plot(m_log_alphas, model.cv_mse_path_.mean(axis=-1), 'k',\n",
    "         label='Average across the folds', linewidth=2)\n",
    "plt.axvline(-np.log10(model.alpha_), linestyle='--', color='k',\n",
    "            label='alpha CV')\n",
    "plt.legend()\n",
    "\n",
    "plt.xlabel('-log(alpha)')\n",
    "plt.ylabel('Mean square error')\n",
    "plt.title('Mean square error on each fold: Lars (train time: %.2fs)'\n",
    "          % t_lasso_lars_cv)\n",
    "plt.axis('tight')\n",
    "plt.show()"
   ]
  },
  {
   "cell_type": "markdown",
   "metadata": {},
   "source": [
    "Print variable names and regression coefficients"
   ]
  },
  {
   "cell_type": "code",
   "execution_count": 17,
   "metadata": {},
   "outputs": [
    {
     "name": "stdout",
     "output_type": "stream",
     "text": [
      "Initial number coefs: 113\n",
      "Coefs after fitting model: 61\n"
     ]
    },
    {
     "data": {
      "text/plain": [
       "[('cat_news', 6457.1089767406465),\n",
       " ('cat_sport', 2338.9548679840977),\n",
       " ('cat_femail', 2194.3944872910565),\n",
       " ('pub_dayofweek', 674.05328166285369),\n",
       " (u'fan', 67.344754789223174),\n",
       " (u'mother', 42.871103821602581),\n",
       " (u'result', 30.392230997152012),\n",
       " (u'die', 28.563209732591055),\n",
       " (u'could', 25.716163788412405),\n",
       " (u'leagu', 18.9138823326373),\n",
       " (u'day', 17.179499438430156),\n",
       " (u'citi', 14.415228738124005),\n",
       " (u'hit', 13.715704444636838),\n",
       " (u'dead', 12.913204844872839),\n",
       " (u'reveal', 11.143245395086296),\n",
       " (u'woman', 11.018106167140537),\n",
       " (u'take', 7.9141906048921165),\n",
       " (u'show', 7.6991464475261084),\n",
       " (u'kill', 6.6831222637888299),\n",
       " (u'first', 6.4862336765787969)]"
      ]
     },
     "execution_count": 17,
     "metadata": {},
     "output_type": "execute_result"
    }
   ],
   "source": [
    "import operator\n",
    "coefs = dict(zip(df_tfidf.columns, model.coef_))\n",
    "coefs = { k:v for k, v in coefs.items() if v!=0 }\n",
    "print 'Initial number coefs:', df_tfidf.shape[1]\n",
    "print 'Coefs after fitting model:', len(coefs)\n",
    "#sorted_coefs_abs = sorted(coefs.items(), key=lambda x:-abs(x[1]))\n",
    "#sorted_coefs_abs\n",
    "sorted_coefs = sorted(coefs.items(), key=lambda x:-x[1])\n",
    "sorted_coefs[:20]"
   ]
  },
  {
   "cell_type": "code",
   "execution_count": 18,
   "metadata": {},
   "outputs": [
    {
     "data": {
      "text/plain": [
       "[(u'deal', -4.5588244435363281),\n",
       " (u'court', -5.6793259254127655),\n",
       " (u'win', -6.2947798170585978),\n",
       " (u'dress', -6.8887285606297972),\n",
       " (u'south', -7.0223257334073024),\n",
       " (u'share', -8.0188266404092978),\n",
       " (u'rise', -8.1114480059761789),\n",
       " (u'cut', -10.247472504081848),\n",
       " (u'bank', -10.6913551691437),\n",
       " (u'celebr', -12.020082541924978),\n",
       " (u'fashion', -12.176155312848051),\n",
       " (u'nation', -15.435111782995786),\n",
       " (u'husband', -18.054047338095565),\n",
       " (u'man', -20.018031968862449),\n",
       " (u'car', -28.865403158593868),\n",
       " (u'championship', -32.505194129965915),\n",
       " (u'england', -61.764827038362135),\n",
       " ('pub_days', -265.29318651599266),\n",
       " ('pub_sincemid', -1006.3057846629991),\n",
       " ('cat_wires', -13891.352753144492)]"
      ]
     },
     "execution_count": 18,
     "metadata": {},
     "output_type": "execute_result"
    }
   ],
   "source": [
    "sorted_coefs[-20:]"
   ]
  },
  {
   "cell_type": "markdown",
   "metadata": {},
   "source": [
    "How does model do on test data?"
   ]
  },
  {
   "cell_type": "code",
   "execution_count": 19,
   "metadata": {},
   "outputs": [
    {
     "name": "stdout",
     "output_type": "stream",
     "text": [
      "Training data MSE: 30705.4470647\n",
      "Test data MSE: 33591.0307443\n",
      "Training data MAE: 76.7396327498\n",
      "Test data MAE: 79.9628524015\n"
     ]
    }
   ],
   "source": [
    "def print_errors(model, pred_train, pred_test, tar_train, tar_test):\n",
    "    # MSE from training and test data\n",
    "    train_error = mean_squared_error(tar_train, model.predict(pred_train))\n",
    "    test_error = mean_squared_error(tar_test, model.predict(pred_test))\n",
    "    print 'Training data MSE:', train_error\n",
    "    print 'Test data MSE:', test_error\n",
    "\n",
    "    # MAE from training and test data\n",
    "    train_error = mean_absolute_error(tar_train, model.predict(pred_train))\n",
    "    test_error = mean_absolute_error(tar_test, model.predict(pred_test))\n",
    "    print 'Training data MAE:', train_error\n",
    "    print 'Test data MAE:', test_error\n",
    "    \n",
    "print_errors(model, pred_train, pred_test, tar_train, tar_test)"
   ]
  },
  {
   "cell_type": "markdown",
   "metadata": {},
   "source": [
    "How large is this error in context of data?"
   ]
  },
  {
   "cell_type": "code",
   "execution_count": 20,
   "metadata": {},
   "outputs": [
    {
     "name": "stdout",
     "output_type": "stream",
     "text": [
      "0\n",
      "1500\n",
      "189.291839447\n"
     ]
    }
   ],
   "source": [
    "print min(df[y])\n",
    "print max(df[y])\n",
    "print np.std(df[y])"
   ]
  },
  {
   "cell_type": "markdown",
   "metadata": {},
   "source": [
    "How does this compare to fitting model without text variables?"
   ]
  },
  {
   "cell_type": "code",
   "execution_count": 21,
   "metadata": {},
   "outputs": [
    {
     "name": "stdout",
     "output_type": "stream",
     "text": [
      "train time (seconds): 5.94855499268\n",
      "\n",
      "Initial number coefs: 9\n",
      "Coefs after fitting model: 9\n",
      "\n",
      "Training data MSE: 30891.4842252\n",
      "Test data MSE: 33684.8088984\n",
      "Training data MAE: 76.1813939733\n",
      "Test data MAE: 79.182473179\n"
     ]
    }
   ],
   "source": [
    "pred_train, pred_test, tar_train, tar_test = train_test_split(df_notext.as_matrix(), df[y].as_matrix(),\n",
    "                                                              test_size=.2, random_state=123)\n",
    "\n",
    "t1 = time.time()\n",
    "model=LassoLarsCV(cv=20, precompute=False).fit(pred_train, tar_train)\n",
    "t_lasso_lars_cv = time.time() - t1\n",
    "print 'train time (seconds):', t_lasso_lars_cv\n",
    "print\n",
    "\n",
    "# Number of coefs after fitting model\n",
    "coefs = dict(zip(df_notext.columns, model.coef_))\n",
    "print 'Initial number coefs:', df_notext.shape[1]\n",
    "print 'Coefs after fitting model:', len(coefs)\n",
    "print\n",
    "\n",
    "# MSE and MAE\n",
    "print_errors(model, pred_train, pred_test, tar_train, tar_test)"
   ]
  },
  {
   "cell_type": "markdown",
   "metadata": {},
   "source": [
    "This is rather disappointing. Including text features does not improve the predictive power of our model. This likely results, at least in part, from the fact that such a high proportion of words occur in less than 1 percent of the document titles. "
   ]
  },
  {
   "cell_type": "markdown",
   "metadata": {},
   "source": [
    "## Regression Using Features from K-Means\n",
    "\n",
    "Previous research as found that clustering at the preprocessing stage can help to reduce predictive error; for example, [Trivedi, Pardos, and Heffernan (2015)](https://arxiv.org/pdf/1509.06163.pdf). If this worked in this context, it would have the added advantage of allowing us to more meaninfully interpret our model; for example, we might be able to say that articles discussing soccer victories are particularly widely shared.\n",
    "\n",
    "I will use k-means to cluster articles at the pre-processing stage, and then include these clusters as predictors in a regression model. Starting with k cluster centers, k-means identifies which points are nearest to each cluster center. It then chooses new cluster centers by minimizing the total quadratic distance of each cluster center to its points. Then it repeats this process, starting with these new cluster centers.\n",
    "\n",
    "My dataframe is already to some extent grouped by topic according to the category variable. I will use k-means clustering for only the two largest of these groups: news and wires. I therefore need to attach an id variable to my dataframe so that I don't loose track of these observations, and then take only the news and wires stories. Note that non of the following code is going to work, absent a huge amount of RAM, with a very big dataset."
   ]
  },
  {
   "cell_type": "code",
   "execution_count": 22,
   "metadata": {
    "collapsed": true
   },
   "outputs": [],
   "source": [
    "df_tfidf['article_id'] = np.nan\n",
    "df_tfidf['article_id'] = df['article_id']"
   ]
  },
  {
   "cell_type": "code",
   "execution_count": 23,
   "metadata": {},
   "outputs": [
    {
     "data": {
      "text/plain": [
       "array([u'ahead', u'arrest', u'attack', u'babi', u'back', u'ban', u'bank',\n",
       "       u'boss', u'call', u'car', u'celebr', u'championship', u'charg',\n",
       "       u'china', u'citi', u'claim', u'could', u'court', u'cup', u'cut',\n",
       "       u'daughter', u'day', u'dead', u'deal', u'death', u'die', u'dress',\n",
       "       u'end', u'england', u'face', u'famili', u'fan', u'fashion',\n",
       "       u'fight', u'fire', u'first', u'forc', u'former', u'get', u'girl',\n",
       "       u'give', u'head', u'help', u'high', u'hit', u'home', u'hous',\n",
       "       u'husband', u'kill', u'latest', u'lead', u'leagu', u'leav', u'life',\n",
       "       u'like', u'look', u'love', u'make', u'man', u'meet', u'mother',\n",
       "       u'nation', u'new', u'one', u'open', u'parti', u'plan', u'polic',\n",
       "       u'presid', u'report', u'result', u'return', u'reveal', u'rise',\n",
       "       u'say', u'see', u'set', u'share', u'show', u'son', u'south',\n",
       "       u'stand', u'star', u'state', u'take', u'talk', u'test', u'three',\n",
       "       u'time', u'top', u'tri', u'trump', u'two', u'use', u'want', u'warn',\n",
       "       u'week', u'white', u'win', u'woman', u'women', u'work', u'world',\n",
       "       u'year', 'pub_days', 'pub_dayofweek', 'pub_sincemid',\n",
       "       'sponsored_dummy', 'cat_wires', 'cat_news', 'cat_tvshowbiz',\n",
       "       'cat_sport', 'cat_femail', 'article_id'], dtype=object)"
      ]
     },
     "execution_count": 23,
     "metadata": {},
     "output_type": "execute_result"
    }
   ],
   "source": [
    "df_tfidf.columns.values"
   ]
  },
  {
   "cell_type": "code",
   "execution_count": 24,
   "metadata": {
    "collapsed": true
   },
   "outputs": [],
   "source": [
    "df_1 = df_tfidf[(df_tfidf['cat_news']>0) | (df_tfidf['cat_wires']>0)]"
   ]
  },
  {
   "cell_type": "markdown",
   "metadata": {},
   "source": [
    "I next need to drop non-text variables from dataframe I will use for clustering, as I only want to cluster by text features. Also drop the id variable, but keep this vector for later."
   ]
  },
  {
   "cell_type": "code",
   "execution_count": 25,
   "metadata": {},
   "outputs": [
    {
     "data": {
      "text/plain": [
       "array([u'ahead', u'arrest', u'attack', u'babi', u'back', u'ban', u'bank',\n",
       "       u'boss', u'call', u'car', u'celebr', u'championship', u'charg',\n",
       "       u'china', u'citi', u'claim', u'could', u'court', u'cup', u'cut',\n",
       "       u'daughter', u'day', u'dead', u'deal', u'death', u'die', u'dress',\n",
       "       u'end', u'england', u'face', u'famili', u'fan', u'fashion',\n",
       "       u'fight', u'fire', u'first', u'forc', u'former', u'get', u'girl',\n",
       "       u'give', u'head', u'help', u'high', u'hit', u'home', u'hous',\n",
       "       u'husband', u'kill', u'latest', u'lead', u'leagu', u'leav', u'life',\n",
       "       u'like', u'look', u'love', u'make', u'man', u'meet', u'mother',\n",
       "       u'nation', u'new', u'one', u'open', u'parti', u'plan', u'polic',\n",
       "       u'presid', u'report', u'result', u'return', u'reveal', u'rise',\n",
       "       u'say', u'see', u'set', u'share', u'show', u'son', u'south',\n",
       "       u'stand', u'star', u'state', u'take', u'talk', u'test', u'three',\n",
       "       u'time', u'top', u'tri', u'trump', u'two', u'use', u'want', u'warn',\n",
       "       u'week', u'white', u'win', u'woman', u'women', u'work', u'world',\n",
       "       u'year'], dtype=object)"
      ]
     },
     "execution_count": 25,
     "metadata": {},
     "output_type": "execute_result"
    }
   ],
   "source": [
    "df_1 = df_1.drop(df_notext.columns.values.tolist(), axis=1)   # get warning if do it inplace\n",
    "df_1_id = df_1['article_id']\n",
    "df_1.drop('article_id', axis=1, inplace=True)\n",
    "df_1.columns.values"
   ]
  },
  {
   "cell_type": "markdown",
   "metadata": {},
   "source": [
    "Then fit model. I tried different numbers of clusters, 6 clusters gives the most meaningful groupings."
   ]
  },
  {
   "cell_type": "code",
   "execution_count": 26,
   "metadata": {},
   "outputs": [
    {
     "name": "stdout",
     "output_type": "stream",
     "text": [
      "CPU times: user 8.19 s, sys: 759 ms, total: 8.95 s\n",
      "Wall time: 11.6 s\n"
     ]
    }
   ],
   "source": [
    "n_clusters = 10\n",
    "kmeans = KMeans(n_clusters=n_clusters, init='k-means++', random_state=0)\n",
    "%time km = kmeans.fit(df_1)"
   ]
  },
  {
   "cell_type": "markdown",
   "metadata": {},
   "source": [
    "I next want to look at some of the text in my different clusters to see if it seems reasonable. \n",
    "\n",
    "In a good clustering of documents:\n",
    "* Documents in the same cluster should be similar.\n",
    "* Documents from different clusters should be less similar.\n",
    "\n",
    "To examine the text in my clustering I will:\n",
    "* Fetch 5 nearest neighbors of each centroid from the set of documents assigned to that cluster. I will consider these documents as being representative of the cluster.\n",
    "* Print top 5 words that have highest tf-idf weights in each centroid."
   ]
  },
  {
   "cell_type": "code",
   "execution_count": 27,
   "metadata": {},
   "outputs": [
    {
     "name": "stdout",
     "output_type": "stream",
     "text": [
      "Cluster 0    \n",
      "new 0.676215639123\n",
      "south 0.0329973543237\n",
      "say 0.0268965803513\n",
      "deal 0.0241164035692\n",
      "home 0.0191492984279\n",
      "\n",
      "PSA unveils new DS7 Crossback sport utility vehicle\n",
      "\n",
      "Katy Perry rocks vibrant pink suit in promo shots for her new single... after admitting she has 'given up' caring what people think about her style\n",
      "\n",
      "Kristen Stewart jets out of LA after creating a real buzz with her new shaved hairdo\n",
      "\n",
      "The Talented Mr Damon: Boston native Matt will narrate a new documentary about the marathon bombing in his hometown\n",
      "\n",
      "European rights official denounces new Hungarian asylum law\n",
      "\n",
      "==========================================================\n",
      "Cluster 1    \n",
      "win 0.0212595767793\n",
      "china 0.019911651449\n",
      "polic 0.0199069152434\n",
      "top 0.0144398629067\n",
      "back 0.014095267931\n",
      "\n",
      "Hoges: The Paul Hogan Story rates behind music biopics INXS and Molly with 1.32M viewers\n",
      "\n",
      "Fraudster posed as Nickelback's drummer in a bid to swindle $25,000 worth of high-end microphones\n",
      "\n",
      "Ex-deputy accused of sexually assaulting female inmates\n",
      "\n",
      "Turkey's treatment of journalist damaging German-Turkish ties-minister\n",
      "\n",
      "Judge tosses part of ex-University of Kansas rower's lawsuit\n",
      "\n",
      "==========================================================\n",
      "Cluster 2    \n",
      "trump 0.676416904556\n",
      "say 0.0578515938049\n",
      "ban 0.0497506672712\n",
      "presid 0.0445104052775\n",
      "hous 0.0366790495898\n",
      "\n",
      "Fact check: How Trumps Keystone XL story fell apart\n",
      "\n",
      "Trump dismisses dozens of Obama-era federal prosecutors\n",
      "\n",
      "U.S. senators ask government for proof Obama wiretapped Trump\n",
      "\n",
      "US STOCKS-Wall St slips as Trump speech looms; retail a drag\n",
      "\n",
      "Watchdog presses U.S. lawmakers to probe Icahn's role with Trump\n",
      "\n",
      "==========================================================\n",
      "Cluster 3    \n",
      "man 0.62508739255\n",
      "polic 0.0696424641163\n",
      "charg 0.0508542814007\n",
      "kill 0.0447398528037\n",
      "arrest 0.0399346478452\n",
      "\n",
      "He's all bent out of shape! Hypermobile man rotates his hand a full 360 DEGREES (and squeamish viewers will find it weirdly unsettling)\n",
      "\n",
      "Man, 19, crushed by a wall while rebuilding a town destroyed by bushfires in Western Australia\n",
      "\n",
      "Swiss man suspected of abusing 80 boys in Thailand\n",
      "\n",
      "Poland confirms Minnesota man as Nazi commander\n",
      "\n",
      "James McAvoy is a man in black at SXSW screening of action spy thriller Atomic Blonde\n",
      "\n",
      "==========================================================\n",
      "Cluster 4    \n",
      "hit 0.436382782225\n",
      "high 0.37478478732\n",
      "new 0.0299854903405\n",
      "rise 0.0288243799142\n",
      "share 0.0222457176637\n",
      "\n",
      "FOREX-Dollar index hits 5-day high after strong U.S. private-sector jobs data\n",
      "\n",
      "The number of smokers plunges to just 17 per cent of people as those quitting hits a 40-year high\n",
      "\n",
      "McCartney hits high, pays tribute to George Michael in Paris\n",
      "\n",
      "High alcohol prices at Australian pubs and clubs causing two-thirds of revellers to pre-drink before they hit the town\n",
      "\n",
      "U.S. auto recalls hit record high 53.2 million in 2016\n",
      "\n",
      "==========================================================\n",
      "Cluster 5    \n",
      "say 0.709512773112\n",
      "china 0.0293953760962\n",
      "deal 0.0194353971958\n",
      "polic 0.0176372707732\n",
      "latest 0.0165136686419\n",
      "\n",
      "Vietnam's PM says ready to visit U.S. to promote ties\n",
      "\n",
      "U.S. military says deploys THAAD anti-missile defence system in S.Korea\n",
      "\n",
      "Greek PM glosses over delays and weak data, says economy is recovering\n",
      "\n",
      "Sturgeon says autumn 2018 would be \"common sense\" date for independence referendum - BBC\n",
      "\n",
      "GLOBAL ECONOMY-How do you say deja vu in Greek?\n",
      "\n",
      "==========================================================\n",
      "Cluster 6    \n",
      "kill 0.702987348849\n",
      "attack 0.0470190919804\n",
      "polic 0.0460776236312\n",
      "two 0.0424183808647\n",
      "say 0.0371749468951\n",
      "\n",
      "Blasts at Serbia ammunition depot; 1 killed, some 25 injured\n",
      "\n",
      "At least 16 killed in Panama after bus drives into ravine\n",
      "\n",
      "Twin suicide bombing kills 26 at a wedding north of Baghdad\n",
      "\n",
      "'Jihadists' kill civilians, soldiers in north Mali\n",
      "\n",
      "Bear killed in German zoo after it escapes from compound\n",
      "\n",
      "==========================================================\n",
      "Cluster 7    \n",
      "talk 0.78780394226\n",
      "say 0.0592039032491\n",
      "trump 0.0562192430682\n",
      "meet 0.0192247152431\n",
      "high 0.0163419757889\n",
      "\n"
     ]
    },
    {
     "name": "stderr",
     "output_type": "stream",
     "text": [
      "/Users/sambarrows/anaconda2/lib/python2.7/site-packages/ipykernel_launcher.py:16: VisibleDeprecationWarning: boolean index did not match indexed array along dimension 0; dimension is 50058 but corresponding boolean dimension is 34299\n",
      "  app.launch_new_instance()\n"
     ]
    },
    {
     "name": "stdout",
     "output_type": "stream",
     "text": [
      "Silence is golden - May plays down Brexit talk at EU summit\n",
      "\n",
      "Talks continue over Ryder Cup-style multi-sport showdown between Great Britain and the USA\n",
      "\n",
      "Russia in touch with Syrian opposition rebels who boycotted talks - Ifax\n",
      "\n",
      "ASEAN, EU agree to lay groundwork to resume free trade talks\n",
      "\n",
      "'Why choose burger over prime steak?' TOWIE's Amber Turner locks horns with beau Jamie Reed in furious crisis talks... as she's SLAMMED for Dan Edgar cheating scandal\n",
      "\n",
      "==========================================================\n",
      "Cluster 8    \n",
      "result 0.520059541699\n",
      "stand 0.498070731649\n",
      "championship 0.316426107476\n",
      "leagu 0.0259366561748\n",
      "cup 0.0181209753428\n",
      "\n",
      "Greek championship results and standings\n",
      "\n",
      "Bulgarian championship results and standings\n",
      "\n",
      "Soccer-Bolivian championship adecuacion results and standings\n",
      "\n",
      "Peruvian championship results and standings\n",
      "\n",
      "Soccer-Colombian championship liga aguila i results and standings\n",
      "\n",
      "==========================================================\n",
      "Cluster 9    \n",
      "year 0.621488845268\n",
      "two 0.0510183884721\n",
      "three 0.0396204619145\n",
      "get 0.0327897030788\n",
      "first 0.0289398983572\n",
      "\n",
      "Coat check! As Emily Ratajkowski continues to rock last year's biggest outerwear trend, FEMAIL rounds up 24 stylish duster coats for YOU to shop\n",
      "\n",
      "Poland may need to consider rate hike this year - central banker\n",
      "\n",
      "Defense lawyer still going strong at 94 years old\n",
      "\n",
      "Patient, 39, who dubbed himself the god of explosives before posting home-made bombs through his GP surgerys letterbox in a row over prescriptions is jailed for five years\n",
      "\n",
      "Google and Levi's 280 smart jacket that lets you control your phone by brushing your sleeve will go on sale this year\n",
      "\n",
      "==========================================================\n"
     ]
    }
   ],
   "source": [
    "centroids = km.cluster_centers_   # coordinates of cluster centers\n",
    "cluster_assignment = km.labels_   # label of every data point\n",
    "\n",
    "for c in xrange(n_clusters):\n",
    "    # Cluster heading\n",
    "    print('Cluster {0:d}    '.format(c))\n",
    "\n",
    "    # Print top 5 words with largest TF-IDF weights in the cluster\n",
    "    idx = centroids[c].argsort()[::-1]\n",
    "    for i in xrange(5):\n",
    "        print list_of_words[idx[i]], centroids[c,idx[i]]\n",
    "    print ('')\n",
    "    \n",
    "    # Compute distances from the centroid to all data points in the cluster\n",
    "    distances = pairwise_distances(tf_idf, [centroids[c]], metric='euclidean').flatten()\n",
    "    distances[cluster_assignment!=c] = float('inf') # remove non-members from consideration\n",
    "    nearest_neighbors = distances.argsort() # argsort() returns the indices that would sort an array\n",
    "    # For 5 nearest neighbors, print the first 250 characters of text\n",
    "    for i in xrange(5):\n",
    "        print tlist[nearest_neighbors[i]][:250]\n",
    "        print ('')\n",
    "    print('==========================================================')"
   ]
  },
  {
   "cell_type": "markdown",
   "metadata": {},
   "source": [
    "These clusterings are far from perfect. For one thing, some clusterings appear to be driven by a word that is in fact not particularly substantively informative, such as \"new\", \"man\", or \"years.\" If I explore using k-means further, I could address this by adding customer stopwords. For now, I will include all the categories it gives me, as lasso should end up dropping them if they are not helpful predictors.  \n",
    "\n",
    "An additional concern is that several clusterings appear to be driven by a single word; however, given the relatively small number of words that appear in amore than 1 percent of the article titles, this may be unavoidable. Others are not driven by a single word, but are also not completely consistent in the substantive topics they put together. Thus, the current groupings should be considered a rough-and-ready first cut.\n",
    "\n",
    "I next create a categorical variable giving the name of the cluster for each observation."
   ]
  },
  {
   "cell_type": "code",
   "execution_count": 28,
   "metadata": {
    "collapsed": true
   },
   "outputs": [],
   "source": [
    "clusters = km.labels_\n",
    "km_clusters = ['new', 'legal', 'trump', 'man', 'high', 'glob_pol', \n",
    "               'killing', 'talks', 'championship', 'years']\n",
    "for i in range(len(km_clusters)):\n",
    "    clusters = [km_clusters[i] if x==i else x for x in clusters]\n",
    "clusters = clusters + [None] * (len(df_notext) - len(clusters))     # create empty elements for obs not in subsample"
   ]
  },
  {
   "cell_type": "markdown",
   "metadata": {},
   "source": [
    "Create dataframe with dummy variable for each of the categories and normalize."
   ]
  },
  {
   "cell_type": "code",
   "execution_count": 29,
   "metadata": {},
   "outputs": [
    {
     "data": {
      "text/html": [
       "<div>\n",
       "<style>\n",
       "    .dataframe thead tr:only-child th {\n",
       "        text-align: right;\n",
       "    }\n",
       "\n",
       "    .dataframe thead th {\n",
       "        text-align: left;\n",
       "    }\n",
       "\n",
       "    .dataframe tbody tr th {\n",
       "        vertical-align: top;\n",
       "    }\n",
       "</style>\n",
       "<table border=\"1\" class=\"dataframe\">\n",
       "  <thead>\n",
       "    <tr style=\"text-align: right;\">\n",
       "      <th></th>\n",
       "      <th>new</th>\n",
       "      <th>legal</th>\n",
       "      <th>trump</th>\n",
       "      <th>man</th>\n",
       "      <th>high</th>\n",
       "      <th>glob_pol</th>\n",
       "      <th>killing</th>\n",
       "      <th>talks</th>\n",
       "      <th>championship</th>\n",
       "      <th>years</th>\n",
       "    </tr>\n",
       "  </thead>\n",
       "  <tbody>\n",
       "    <tr>\n",
       "      <th>0</th>\n",
       "      <td>0.000000</td>\n",
       "      <td>0.000000</td>\n",
       "      <td>0.022582</td>\n",
       "      <td>0.0</td>\n",
       "      <td>0.0</td>\n",
       "      <td>0.000000</td>\n",
       "      <td>0.0</td>\n",
       "      <td>0.0</td>\n",
       "      <td>0.0</td>\n",
       "      <td>0.000000</td>\n",
       "    </tr>\n",
       "    <tr>\n",
       "      <th>1</th>\n",
       "      <td>0.000000</td>\n",
       "      <td>0.006365</td>\n",
       "      <td>0.000000</td>\n",
       "      <td>0.0</td>\n",
       "      <td>0.0</td>\n",
       "      <td>0.000000</td>\n",
       "      <td>0.0</td>\n",
       "      <td>0.0</td>\n",
       "      <td>0.0</td>\n",
       "      <td>0.000000</td>\n",
       "    </tr>\n",
       "    <tr>\n",
       "      <th>2</th>\n",
       "      <td>0.000000</td>\n",
       "      <td>0.000000</td>\n",
       "      <td>0.000000</td>\n",
       "      <td>0.0</td>\n",
       "      <td>0.0</td>\n",
       "      <td>0.024581</td>\n",
       "      <td>0.0</td>\n",
       "      <td>0.0</td>\n",
       "      <td>0.0</td>\n",
       "      <td>0.000000</td>\n",
       "    </tr>\n",
       "    <tr>\n",
       "      <th>3</th>\n",
       "      <td>0.030289</td>\n",
       "      <td>0.000000</td>\n",
       "      <td>0.000000</td>\n",
       "      <td>0.0</td>\n",
       "      <td>0.0</td>\n",
       "      <td>0.000000</td>\n",
       "      <td>0.0</td>\n",
       "      <td>0.0</td>\n",
       "      <td>0.0</td>\n",
       "      <td>0.000000</td>\n",
       "    </tr>\n",
       "    <tr>\n",
       "      <th>4</th>\n",
       "      <td>0.000000</td>\n",
       "      <td>0.000000</td>\n",
       "      <td>0.000000</td>\n",
       "      <td>0.0</td>\n",
       "      <td>0.0</td>\n",
       "      <td>0.000000</td>\n",
       "      <td>0.0</td>\n",
       "      <td>0.0</td>\n",
       "      <td>0.0</td>\n",
       "      <td>0.034239</td>\n",
       "    </tr>\n",
       "  </tbody>\n",
       "</table>\n",
       "</div>"
      ],
      "text/plain": [
       "        new     legal     trump  man  high  glob_pol  killing  talks  \\\n",
       "0  0.000000  0.000000  0.022582  0.0   0.0  0.000000      0.0    0.0   \n",
       "1  0.000000  0.006365  0.000000  0.0   0.0  0.000000      0.0    0.0   \n",
       "2  0.000000  0.000000  0.000000  0.0   0.0  0.024581      0.0    0.0   \n",
       "3  0.030289  0.000000  0.000000  0.0   0.0  0.000000      0.0    0.0   \n",
       "4  0.000000  0.000000  0.000000  0.0   0.0  0.000000      0.0    0.0   \n",
       "\n",
       "   championship     years  \n",
       "0           0.0  0.000000  \n",
       "1           0.0  0.000000  \n",
       "2           0.0  0.000000  \n",
       "3           0.0  0.000000  \n",
       "4           0.0  0.034239  "
      ]
     },
     "execution_count": 29,
     "metadata": {},
     "output_type": "execute_result"
    }
   ],
   "source": [
    "df_km = pd.DataFrame({'clusters': clusters})\n",
    "for c in km_clusters:\n",
    "    df_km[c] = 0\n",
    "    df_km.loc[df_km.clusters==c, c] = 1\n",
    "df_km.drop('clusters', axis=1, inplace=True)\n",
    "df_km = pd.DataFrame(normalize(df_km, norm='l2', copy=False, axis=0))  # nb. copy doesn't make it inplace\n",
    "df_km.columns = km_clusters\n",
    "df_km.head(5)"
   ]
  },
  {
   "cell_type": "markdown",
   "metadata": {},
   "source": [
    "Merge with ```df_notext``` dataframe."
   ]
  },
  {
   "cell_type": "code",
   "execution_count": 30,
   "metadata": {},
   "outputs": [
    {
     "data": {
      "text/html": [
       "<div>\n",
       "<style>\n",
       "    .dataframe thead tr:only-child th {\n",
       "        text-align: right;\n",
       "    }\n",
       "\n",
       "    .dataframe thead th {\n",
       "        text-align: left;\n",
       "    }\n",
       "\n",
       "    .dataframe tbody tr th {\n",
       "        vertical-align: top;\n",
       "    }\n",
       "</style>\n",
       "<table border=\"1\" class=\"dataframe\">\n",
       "  <thead>\n",
       "    <tr style=\"text-align: right;\">\n",
       "      <th></th>\n",
       "      <th>new</th>\n",
       "      <th>legal</th>\n",
       "      <th>trump</th>\n",
       "      <th>man</th>\n",
       "      <th>high</th>\n",
       "      <th>glob_pol</th>\n",
       "      <th>killing</th>\n",
       "      <th>talks</th>\n",
       "      <th>championship</th>\n",
       "      <th>years</th>\n",
       "      <th>pub_days</th>\n",
       "      <th>pub_dayofweek</th>\n",
       "      <th>pub_sincemid</th>\n",
       "      <th>sponsored_dummy</th>\n",
       "      <th>cat_wires</th>\n",
       "      <th>cat_news</th>\n",
       "      <th>cat_tvshowbiz</th>\n",
       "      <th>cat_sport</th>\n",
       "      <th>cat_femail</th>\n",
       "    </tr>\n",
       "  </thead>\n",
       "  <tbody>\n",
       "    <tr>\n",
       "      <th>0</th>\n",
       "      <td>0.000000</td>\n",
       "      <td>0.000000</td>\n",
       "      <td>0.022582</td>\n",
       "      <td>0.0</td>\n",
       "      <td>0.0</td>\n",
       "      <td>0.000000</td>\n",
       "      <td>0.0</td>\n",
       "      <td>0.0</td>\n",
       "      <td>0.0</td>\n",
       "      <td>0.000000</td>\n",
       "      <td>0.0</td>\n",
       "      <td>0.001371</td>\n",
       "      <td>0.003118</td>\n",
       "      <td>0.0</td>\n",
       "      <td>0.006175</td>\n",
       "      <td>0.0</td>\n",
       "      <td>0.0</td>\n",
       "      <td>0.0</td>\n",
       "      <td>0.0</td>\n",
       "    </tr>\n",
       "    <tr>\n",
       "      <th>1</th>\n",
       "      <td>0.000000</td>\n",
       "      <td>0.006365</td>\n",
       "      <td>0.000000</td>\n",
       "      <td>0.0</td>\n",
       "      <td>0.0</td>\n",
       "      <td>0.000000</td>\n",
       "      <td>0.0</td>\n",
       "      <td>0.0</td>\n",
       "      <td>0.0</td>\n",
       "      <td>0.000000</td>\n",
       "      <td>0.0</td>\n",
       "      <td>0.001371</td>\n",
       "      <td>0.003416</td>\n",
       "      <td>0.0</td>\n",
       "      <td>0.006175</td>\n",
       "      <td>0.0</td>\n",
       "      <td>0.0</td>\n",
       "      <td>0.0</td>\n",
       "      <td>0.0</td>\n",
       "    </tr>\n",
       "    <tr>\n",
       "      <th>2</th>\n",
       "      <td>0.000000</td>\n",
       "      <td>0.000000</td>\n",
       "      <td>0.000000</td>\n",
       "      <td>0.0</td>\n",
       "      <td>0.0</td>\n",
       "      <td>0.024581</td>\n",
       "      <td>0.0</td>\n",
       "      <td>0.0</td>\n",
       "      <td>0.0</td>\n",
       "      <td>0.000000</td>\n",
       "      <td>0.0</td>\n",
       "      <td>0.001371</td>\n",
       "      <td>0.003190</td>\n",
       "      <td>0.0</td>\n",
       "      <td>0.006175</td>\n",
       "      <td>0.0</td>\n",
       "      <td>0.0</td>\n",
       "      <td>0.0</td>\n",
       "      <td>0.0</td>\n",
       "    </tr>\n",
       "    <tr>\n",
       "      <th>3</th>\n",
       "      <td>0.030289</td>\n",
       "      <td>0.000000</td>\n",
       "      <td>0.000000</td>\n",
       "      <td>0.0</td>\n",
       "      <td>0.0</td>\n",
       "      <td>0.000000</td>\n",
       "      <td>0.0</td>\n",
       "      <td>0.0</td>\n",
       "      <td>0.0</td>\n",
       "      <td>0.000000</td>\n",
       "      <td>0.0</td>\n",
       "      <td>0.001371</td>\n",
       "      <td>0.005972</td>\n",
       "      <td>0.0</td>\n",
       "      <td>0.006175</td>\n",
       "      <td>0.0</td>\n",
       "      <td>0.0</td>\n",
       "      <td>0.0</td>\n",
       "      <td>0.0</td>\n",
       "    </tr>\n",
       "    <tr>\n",
       "      <th>4</th>\n",
       "      <td>0.000000</td>\n",
       "      <td>0.000000</td>\n",
       "      <td>0.000000</td>\n",
       "      <td>0.0</td>\n",
       "      <td>0.0</td>\n",
       "      <td>0.000000</td>\n",
       "      <td>0.0</td>\n",
       "      <td>0.0</td>\n",
       "      <td>0.0</td>\n",
       "      <td>0.034239</td>\n",
       "      <td>0.0</td>\n",
       "      <td>0.001371</td>\n",
       "      <td>0.003454</td>\n",
       "      <td>0.0</td>\n",
       "      <td>0.006175</td>\n",
       "      <td>0.0</td>\n",
       "      <td>0.0</td>\n",
       "      <td>0.0</td>\n",
       "      <td>0.0</td>\n",
       "    </tr>\n",
       "  </tbody>\n",
       "</table>\n",
       "</div>"
      ],
      "text/plain": [
       "        new     legal     trump  man  high  glob_pol  killing  talks  \\\n",
       "0  0.000000  0.000000  0.022582  0.0   0.0  0.000000      0.0    0.0   \n",
       "1  0.000000  0.006365  0.000000  0.0   0.0  0.000000      0.0    0.0   \n",
       "2  0.000000  0.000000  0.000000  0.0   0.0  0.024581      0.0    0.0   \n",
       "3  0.030289  0.000000  0.000000  0.0   0.0  0.000000      0.0    0.0   \n",
       "4  0.000000  0.000000  0.000000  0.0   0.0  0.000000      0.0    0.0   \n",
       "\n",
       "   championship     years  pub_days  pub_dayofweek  pub_sincemid  \\\n",
       "0           0.0  0.000000       0.0       0.001371      0.003118   \n",
       "1           0.0  0.000000       0.0       0.001371      0.003416   \n",
       "2           0.0  0.000000       0.0       0.001371      0.003190   \n",
       "3           0.0  0.000000       0.0       0.001371      0.005972   \n",
       "4           0.0  0.034239       0.0       0.001371      0.003454   \n",
       "\n",
       "   sponsored_dummy  cat_wires  cat_news  cat_tvshowbiz  cat_sport  cat_femail  \n",
       "0              0.0   0.006175       0.0            0.0        0.0         0.0  \n",
       "1              0.0   0.006175       0.0            0.0        0.0         0.0  \n",
       "2              0.0   0.006175       0.0            0.0        0.0         0.0  \n",
       "3              0.0   0.006175       0.0            0.0        0.0         0.0  \n",
       "4              0.0   0.006175       0.0            0.0        0.0         0.0  "
      ]
     },
     "execution_count": 30,
     "metadata": {},
     "output_type": "execute_result"
    }
   ],
   "source": [
    "for c in df_notext.columns.values.tolist():\n",
    "    df_km[c] = np.nan\n",
    "    df_km[c] = df_notext[c]\n",
    "# df_km.drop(['cat_wires', 'cat_news'], axis=1, inplace=True)   # made model perform a lot worse\n",
    "df_km.head()"
   ]
  },
  {
   "cell_type": "markdown",
   "metadata": {},
   "source": [
    "Fit regression model using same approach as above, to ensure comparable."
   ]
  },
  {
   "cell_type": "code",
   "execution_count": 31,
   "metadata": {},
   "outputs": [
    {
     "name": "stdout",
     "output_type": "stream",
     "text": [
      "train time (seconds): 24.1776878834\n",
      "\n",
      "Initial number coefs: 9\n",
      "Coefs after fitting model: 9\n",
      "\n",
      "Training data MSE: 30884.8079964\n",
      "Test data MSE: 33699.8498576\n",
      "Training data MAE: 76.2085491638\n",
      "Test data MAE: 79.2159466417\n"
     ]
    }
   ],
   "source": [
    "pred_train, pred_test, tar_train, tar_test = train_test_split(df_km.as_matrix(), df[y].as_matrix(),\n",
    "                                                              test_size=.2, random_state=123)\n",
    "\n",
    "t1 = time.time()\n",
    "model=LassoLarsCV(cv=20, precompute=False).fit(pred_train, tar_train)\n",
    "t_lasso_lars_cv = time.time() - t1\n",
    "print 'train time (seconds):', t_lasso_lars_cv\n",
    "print\n",
    "\n",
    "# Number of coefs after fitting model\n",
    "coefs = dict(zip(df_notext.columns, model.coef_))\n",
    "print 'Initial number coefs:', df_notext.shape[1]\n",
    "print 'Coefs after fitting model:', len(coefs)\n",
    "print\n",
    "\n",
    "# MSE and MAE\n",
    "print_errors(model, pred_train, pred_test, tar_train, tar_test)"
   ]
  },
  {
   "cell_type": "markdown",
   "metadata": {},
   "source": [
    "Again, including text data fails to improve the predictive power of the model."
   ]
  },
  {
   "cell_type": "markdown",
   "metadata": {},
   "source": [
    "## XGBoost"
   ]
  },
  {
   "cell_type": "code",
   "execution_count": 40,
   "metadata": {},
   "outputs": [],
   "source": [
    "# split into test and training data (I'll go back to using original data, without features from k-means)\n",
    "X_train, X_test, y_train, y_test = train_test_split(df_tfidf.as_matrix(), df[y].as_matrix(),\n",
    "                                                    test_size=.2, random_state=123)"
   ]
  },
  {
   "cell_type": "code",
   "execution_count": 41,
   "metadata": {},
   "outputs": [
    {
     "name": "stdout",
     "output_type": "stream",
     "text": [
      "train time (seconds): 16.7377119064\n",
      "Training data MSE: 29348.6166602\n",
      "Test data MSE: 33580.7312067\n",
      "Training data MAE: 74.5390734826\n",
      "Test data MAE: 79.2257482857\n"
     ]
    }
   ],
   "source": [
    "# fit the model with defaults\n",
    "t1 = time.time()\n",
    "model = XGBRegressor().fit(X_train, y_train)\n",
    "t = time.time() - t1\n",
    "print 'train time (seconds):', t\n",
    "\n",
    "# make and evaluate predictions\n",
    "print_errors(model, pred_train, pred_test, tar_train, tar_test)"
   ]
  },
  {
   "cell_type": "markdown",
   "metadata": {},
   "source": [
    "### Optimize hyperparameters"
   ]
  },
  {
   "cell_type": "code",
   "execution_count": 44,
   "metadata": {
    "collapsed": true
   },
   "outputs": [],
   "source": [
    "# define objective function we want to minimize \n",
    "def objective(params):\n",
    "    max_depth, learning_rate, n_estimators, gamma, min_child_weight, subsample, colsample_bytree = params\n",
    "\n",
    "    model.set_params(max_depth=max_depth, \n",
    "                     learning_rate=learning_rate, \n",
    "                     n_estimators=n_estimators, \n",
    "                     gamma=gamma,\n",
    "                     min_child_weight=min_child_weight,\n",
    "                     subsample=subsample, \n",
    "                     colsample_bytree=colsample_bytree)\n",
    "\n",
    "    return -np.mean(cross_val_score(model, X_train, y_train, cv=5, n_jobs=-1, scoring='neg_mean_squared_error'))\n",
    "\n",
    "# define bounds of the dimensions of the search space we want to explore\n",
    "space = [(4, 12),             # max_depth\n",
    "         (0.01, 0.5),         # learning_rate\n",
    "         (20, 100),           # n_estimators\n",
    "         (0, 0.5),            # gamma\n",
    "         (1, 5),              # min_child_weight\n",
    "         (0.1, 1),            # subsample\n",
    "         (0.1, 1)]            # colsample_bytree"
   ]
  },
  {
   "cell_type": "code",
   "execution_count": 51,
   "metadata": {},
   "outputs": [
    {
     "name": "stdout",
     "output_type": "stream",
     "text": [
      "Time: 2290.87547112\n"
     ]
    },
    {
     "data": {
      "text/plain": [
       "'Best score=30651.1598'"
      ]
     },
     "execution_count": 51,
     "metadata": {},
     "output_type": "execute_result"
    }
   ],
   "source": [
    "model = XGBRegressor()\n",
    "t1 = time.time()\n",
    "res_gp = gp_minimize(objective, space, n_calls=100, random_state=0)\n",
    "t2 = time.time() - t1\n",
    "\n",
    "print 'Time:', t2\n",
    "\"Best score=%.4f\" % res_gp.fun"
   ]
  },
  {
   "cell_type": "code",
   "execution_count": 67,
   "metadata": {},
   "outputs": [
    {
     "name": "stdout",
     "output_type": "stream",
     "text": [
      "Best parameters:\n",
      "    - max_depth=4\n",
      "    - learning_rate=0.122313\n",
      "    - n_esimators=36.000000\n",
      "    - gamma=0.000000\n",
      "    - min_child_weight=1.000000\n",
      "    - subsample=0.916504\n",
      "    - colsample_bytree=0.668645\n"
     ]
    }
   ],
   "source": [
    "def best_params(res_gp):\n",
    "    print(\"\"\"Best parameters:\n",
    "    - max_depth=%d\n",
    "    - learning_rate=%.6f\n",
    "    - n_esimators=%.6f\n",
    "    - gamma=%.6f\n",
    "    - min_child_weight=%.6f\n",
    "    - subsample=%.6f\n",
    "    - colsample_bytree=%.6f\"\"\" % (res_gp.x[0], \n",
    "                                  res_gp.x[1], \n",
    "                                  res_gp.x[2], \n",
    "                                  res_gp.x[3], \n",
    "                                  res_gp.x[4], \n",
    "                                  res_gp.x[5],\n",
    "                                  res_gp.x[6]))\n",
    "best_params(res_gp)"
   ]
  },
  {
   "cell_type": "code",
   "execution_count": 53,
   "metadata": {},
   "outputs": [
    {
     "data": {
      "text/plain": [
       "<matplotlib.axes._subplots.AxesSubplot at 0x1165b2950>"
      ]
     },
     "execution_count": 53,
     "metadata": {},
     "output_type": "execute_result"
    },
    {
     "data": {
      "image/png": "[encoded data removed]",
      "text/plain": [
       "<matplotlib.figure.Figure at 0x116586050>"
      ]
     },
     "metadata": {},
     "output_type": "display_data"
    }
   ],
   "source": [
    "plot_convergence(res_gp)"
   ]
  },
  {
   "cell_type": "code",
   "execution_count": 66,
   "metadata": {},
   "outputs": [
    {
     "name": "stdout",
     "output_type": "stream",
     "text": [
      "Training data MSE: 29309.6756115\n",
      "Test data MSE: 33422.2739789\n",
      "Training data MAE: 73.4934628747\n",
      "Test data MAE: 77.9925192076\n"
     ]
    }
   ],
   "source": [
    "model_opt = XGBRegressor(max_depth=res_gp.x[0], \n",
    "                         learning_rate=res_gp.x[1], \n",
    "                         n_estimators=res_gp.x[2],\n",
    "                         gamma=res_gp.x[3], \n",
    "                         min_child_weight=res_gp.x[4],\n",
    "                         subsample=res_gp.x[5],\n",
    "                         colsample_bytree=res_gp.x[6]).fit(X_train, y_train)\n",
    "print_errors(model_opt, pred_train, pred_test, tar_train, tar_test)"
   ]
  },
  {
   "cell_type": "markdown",
   "metadata": {},
   "source": [
    "How does this compare to fitting model without text variables?"
   ]
  },
  {
   "cell_type": "code",
   "execution_count": 68,
   "metadata": {},
   "outputs": [
    {
     "name": "stdout",
     "output_type": "stream",
     "text": [
      "Best parameters:\n",
      "    - max_depth=4\n",
      "    - learning_rate=0.122313\n",
      "    - n_esimators=36.000000\n",
      "    - gamma=0.000000\n",
      "    - min_child_weight=1.000000\n",
      "    - subsample=0.916504\n",
      "    - colsample_bytree=0.668645\n",
      "None\n"
     ]
    },
    {
     "data": {
      "text/plain": [
       "<matplotlib.axes._subplots.AxesSubplot at 0x11932eb10>"
      ]
     },
     "execution_count": 68,
     "metadata": {},
     "output_type": "execute_result"
    },
    {
     "data": {
      "image/png": "[encoded data removed]",
      "text/plain": [
       "<matplotlib.figure.Figure at 0x119333e50>"
      ]
     },
     "metadata": {},
     "output_type": "display_data"
    }
   ],
   "source": [
    "X_train, X_test, y_train, y_test = train_test_split(df_notext.as_matrix(), df[y].as_matrix(),\n",
    "                                                    test_size=.2, random_state=123)\n",
    "\n",
    "model = XGBRegressor()\n",
    "res_gp_notext = gp_minimize(objective, space, n_calls=100, random_state=0)\n",
    "\n",
    "print best_params(res_gp)\n",
    "plot_convergence(res_gp)"
   ]
  },
  {
   "cell_type": "code",
   "execution_count": 70,
   "metadata": {},
   "outputs": [
    {
     "name": "stdout",
     "output_type": "stream",
     "text": [
      "Training data MSE: 30246.1536175\n",
      "Test data MSE: 33340.4866103\n",
      "Training data MAE: 74.3490005988\n",
      "Test data MAE: 77.7349067091\n"
     ]
    }
   ],
   "source": [
    "model_opt_notext = XGBRegressor(max_depth=res_gp.x[0], \n",
    "                         learning_rate=res_gp.x[1], \n",
    "                         n_estimators=res_gp.x[2],\n",
    "                         gamma=res_gp.x[3], \n",
    "                         min_child_weight=res_gp.x[4],\n",
    "                         subsample=res_gp.x[5],\n",
    "                         colsample_bytree=res_gp.x[6]).fit(X_train, y_train)\n",
    "print_errors(model_opt_notext, X_train, X_test, y_train, y_test)"
   ]
  },
  {
   "cell_type": "markdown",
   "metadata": {},
   "source": [
    "XGBoost is a slight improvement on regression. Again, however, including features derived from article headlines does not improve upon a model that includes only non-text features."
   ]
  }
 ],
 "metadata": {
  "anaconda-cloud": {},
  "kernelspec": {
   "display_name": "Python 2",
   "language": "python",
   "name": "python2"
  },
  "language_info": {
   "codemirror_mode": {
    "name": "ipython",
    "version": 2
   },
   "file_extension": ".py",
   "mimetype": "text/x-python",
   "name": "python",
   "nbconvert_exporter": "python",
   "pygments_lexer": "ipython2",
   "version": "2.7.14"
  }
 },
 "nbformat": 4,
 "nbformat_minor": 1
}
